{
  "nbformat": 4,
  "nbformat_minor": 0,
  "metadata": {
    "colab": {
      "provenance": [],
      "authorship_tag": "ABX9TyNbM8yewfFDTTV171oBzq7t",
      "include_colab_link": true
    },
    "kernelspec": {
      "name": "python3",
      "display_name": "Python 3"
    },
    "language_info": {
      "name": "python"
    }
  },
  "cells": [
    {
      "cell_type": "markdown",
      "metadata": {
        "id": "view-in-github",
        "colab_type": "text"
      },
      "source": [
        "<a href=\"https://colab.research.google.com/github/iformigoni/Entrada_Publica/blob/main/02_Condi%C3%A7%C3%B5es.ipynb\" target=\"_parent\"><img src=\"https://colab.research.google.com/assets/colab-badge.svg\" alt=\"Open In Colab\"/></a>"
      ]
    },
    {
      "cell_type": "code",
      "execution_count": 1,
      "metadata": {
        "colab": {
          "base_uri": "https://localhost:8080/"
        },
        "id": "U5EIeoKJpFEb",
        "outputId": "f590f460-97a0-4a62-c7ff-4ed7d53c7800"
      },
      "outputs": [
        {
          "output_type": "stream",
          "name": "stdout",
          "text": [
            "Primeiro valor: 10\n",
            "Segundo valor: 33\n",
            "O segundo valor é o maior!\n"
          ]
        }
      ],
      "source": [
        "# Programa 4.1 – Lê dois valores e imprime qual é o maior\n",
        "a = int(input(\"Primeiro valor: \"))\n",
        "b = int(input(\"Segundo valor: \"))\n",
        "if a > b:\n",
        "    print(\"O primeiro valor é o maior!\")\n",
        "if b > a:\n",
        "    print(\"O segundo valor é o maior!\")"
      ]
    },
    {
      "cell_type": "code",
      "source": [
        "# Programa 4.2 - Carro novo ou velho, dependendo da idade\n",
        "idade = int(input(\"Digite a idade do seu carro: \"))\n",
        "if idade <= 3:\n",
        "    print(\"Seu carro é novo\")\n",
        "if idade > 3:\n",
        "    print(\"Seu carro é velho\")"
      ],
      "metadata": {
        "colab": {
          "base_uri": "https://localhost:8080/"
        },
        "id": "oeD3TkXnqKww",
        "outputId": "ca69b900-6d56-487a-e602-fe21311773d1"
      },
      "execution_count": 2,
      "outputs": [
        {
          "output_type": "stream",
          "name": "stdout",
          "text": [
            "Digite a idade do seu carro: 15\n",
            "Seu carro é velho\n"
          ]
        }
      ]
    },
    {
      "cell_type": "code",
      "source": [
        "# Programa 4.3 – Cálculo do Imposto de Renda\n",
        "salário = float(input(\"Digite o salário para cálculo do imposto: \"))\n",
        "base = salário\n",
        "imposto = 0\n",
        "if base > 3000:\n",
        "    imposto = imposto + ((base - 3000) * 0.35)\n",
        "    base = 3000\n",
        "if base > 1000:\n",
        "    imposto = imposto + ((base - 1000) * 0.20)\n",
        "print(f\"Salário: R${salário:6.2f} Imposto a pagar: R${imposto:6.2f}\")"
      ],
      "metadata": {
        "colab": {
          "base_uri": "https://localhost:8080/"
        },
        "id": "EXvNT7dSrEm-",
        "outputId": "9892a3af-0c82-4f13-8a0c-cacdf297f4fd"
      },
      "execution_count": 3,
      "outputs": [
        {
          "output_type": "stream",
          "name": "stdout",
          "text": [
            "Digite o salário para cálculo do imposto: 24000\n",
            "Salário: R$24000.00 Imposto a pagar: R$7750.00\n"
          ]
        }
      ]
    },
    {
      "cell_type": "code",
      "source": [
        "# Programa 4.4 - Carro novo ou velho, dependendo da idade com else\n",
        "idade = int(input(\"Digite a idade de seu carro: \"))\n",
        "if idade <= 3:\n",
        "    print(\"Seu carro é novo\")\n",
        "else:\n",
        "    print(\"Seu carro é velho\")"
      ],
      "metadata": {
        "colab": {
          "base_uri": "https://localhost:8080/"
        },
        "id": "1HQefur7sDrq",
        "outputId": "abec7e0b-b9c1-42ee-870f-26a8be6c3fd1"
      },
      "execution_count": 4,
      "outputs": [
        {
          "output_type": "stream",
          "name": "stdout",
          "text": [
            "Digite a idade de seu carro: 15\n",
            "Seu carro é velho\n"
          ]
        }
      ]
    },
    {
      "cell_type": "code",
      "source": [
        "# Programa 4.5 - Conta de telefone com três faixas de preço\n",
        "minutos = int(input(\"Quantos minutos você utilizou este mês:\"))\n",
        "if minutos < 200:\n",
        "    preço = 0.20\n",
        "else:\n",
        "    if minutos < 400:\n",
        "        preço = 0.18\n",
        "    else:\n",
        "        preço = 0.15\n",
        "print(f\"Você vai pagar este mês: R${minutos * preço:6.2f}\")"
      ],
      "metadata": {
        "colab": {
          "base_uri": "https://localhost:8080/"
        },
        "id": "naaZnyfNsIt9",
        "outputId": "0ca13975-55f4-4c4b-cf73-b0f2a110205d"
      },
      "execution_count": 5,
      "outputs": [
        {
          "output_type": "stream",
          "name": "stdout",
          "text": [
            "Quantos minutos você utilizou este mês:33\n",
            "Você vai pagar este mês: R$  6.60\n"
          ]
        }
      ]
    },
    {
      "cell_type": "code",
      "source": [
        "# Programa 4.6 – Categoria x preço\n",
        "categoria = int(input(\"Digite a categoria do produto:\"))\n",
        "if categoria == 1:\n",
        "    preço = 10\n",
        "else:\n",
        "    if categoria == 2:\n",
        "        preço = 18\n",
        "    else:\n",
        "        if categoria == 3:\n",
        "           preço = 23\n",
        "        else:\n",
        "            if categoria == 4:\n",
        "               preço = 26\n",
        "            else:\n",
        "                if categoria == 5:\n",
        "                   \n",
        "                   preço = 31\n",
        "                else:\n",
        "                    print(\"Categoria inválida, digite um valor entre 1 e 5!\")\n",
        "                    preço = 0\n",
        "print(f\"O preço do produto é: R${preço:6.2f}\")\n"
      ],
      "metadata": {
        "colab": {
          "base_uri": "https://localhost:8080/"
        },
        "id": "ZKLSmfnqvqtK",
        "outputId": "8f15fec1-2cca-49cc-b4c2-ed60ad091777"
      },
      "execution_count": 19,
      "outputs": [
        {
          "output_type": "stream",
          "name": "stdout",
          "text": [
            "Digite a categoria do produto:6\n",
            "Categoria inválida, digite um valor entre 1 e 5!\n",
            "O preço do produto é: R$  0.00\n"
          ]
        }
      ]
    },
    {
      "cell_type": "code",
      "source": [
        "# Programa 4.7 - Categoria x preço, usando elif\n",
        "categoria = int(input(\"Digite a categoria do produto:\"))\n",
        "if categoria == 1:\n",
        "    preço = 10\n",
        "elif categoria == 2:\n",
        "    preço = 18\n",
        "elif categoria == 3:\n",
        "    preço = 23\n",
        "elif categoria == 4:\n",
        "    preço = 26\n",
        "elif categoria == 5:\n",
        "    preço = 31\n",
        "else:\n",
        "    print(\"Categoria inválida, digite um valor entre 1 e 5!\")\n",
        "    preço = 0\n",
        "print(f\"O preço do produto é: R${preço:6.2f}\")"
      ],
      "metadata": {
        "colab": {
          "base_uri": "https://localhost:8080/"
        },
        "id": "6Pxgk0zZx23x",
        "outputId": "905980e8-5cd9-420c-9554-e70b66bda741"
      },
      "execution_count": 21,
      "outputs": [
        {
          "output_type": "stream",
          "name": "stdout",
          "text": [
            "Digite a categoria do produto:8\n",
            "Categoria inválida, digite um valor entre 1 e 5!\n",
            "O preço do produto é: R$  0.00\n"
          ]
        }
      ]
    }
  ]
}