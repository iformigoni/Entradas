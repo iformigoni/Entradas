{
  "nbformat": 4,
  "nbformat_minor": 0,
  "metadata": {
    "colab": {
      "provenance": [],
      "authorship_tag": "ABX9TyNujV9RhIDUT9kozMnIVVNh",
      "include_colab_link": true
    },
    "kernelspec": {
      "name": "python3",
      "display_name": "Python 3"
    },
    "language_info": {
      "name": "python"
    }
  },
  "cells": [
    {
      "cell_type": "markdown",
      "metadata": {
        "id": "view-in-github",
        "colab_type": "text"
      },
      "source": [
        "<a href=\"https://colab.research.google.com/github/iformigoni/Entrada_Publica/blob/main/02_Condi%C3%A7%C3%B5es.ipynb\" target=\"_parent\"><img src=\"https://colab.research.google.com/assets/colab-badge.svg\" alt=\"Open In Colab\"/></a>"
      ]
    },
    {
      "cell_type": "code",
      "execution_count": 1,
      "metadata": {
        "colab": {
          "base_uri": "https://localhost:8080/"
        },
        "id": "U5EIeoKJpFEb",
        "outputId": "f590f460-97a0-4a62-c7ff-4ed7d53c7800"
      },
      "outputs": [
        {
          "output_type": "stream",
          "name": "stdout",
          "text": [
            "Primeiro valor: 10\n",
            "Segundo valor: 33\n",
            "O segundo valor é o maior!\n"
          ]
        }
      ],
      "source": [
        "# Programa 4.1 – Lê dois valores e imprime qual é o maior\n",
        "a = int(input(\"Primeiro valor: \"))\n",
        "b = int(input(\"Segundo valor: \"))\n",
        "if a > b:\n",
        "    print(\"O primeiro valor é o maior!\")\n",
        "if b > a:\n",
        "    print(\"O segundo valor é o maior!\")"
      ]
    },
    {
      "cell_type": "code",
      "source": [],
      "metadata": {
        "id": "oeD3TkXnqKww"
      },
      "execution_count": null,
      "outputs": []
    }
  ]
}