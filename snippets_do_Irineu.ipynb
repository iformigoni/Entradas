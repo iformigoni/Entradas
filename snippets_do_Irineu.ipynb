{
  "nbformat": 4,
  "nbformat_minor": 0,
  "metadata": {
    "colab": {
      "provenance": [],
      "collapsed_sections": [],
      "authorship_tag": "ABX9TyOOVYHguuHUPVzXobRuzUrU",
      "include_colab_link": true
    },
    "kernelspec": {
      "name": "python3",
      "display_name": "Python 3"
    },
    "language_info": {
      "name": "python"
    }
  },
  "cells": [
    {
      "cell_type": "markdown",
      "metadata": {
        "id": "view-in-github",
        "colab_type": "text"
      },
      "source": [
        "<a href=\"https://colab.research.google.com/github/iformigoni/Entrada_Publica/blob/main/snippets_do_Irineu.ipynb\" target=\"_parent\"><img src=\"https://colab.research.google.com/assets/colab-badge.svg\" alt=\"Open In Colab\"/></a>"
      ]
    },
    {
      "cell_type": "markdown",
      "source": [
        "# Irineu_cabeçalho_controle"
      ],
      "metadata": {
        "id": "5gLC6u4QC9uN"
      }
    },
    {
      "cell_type": "code",
      "source": [
        "!pip install control\n",
        "import control\n",
        "import matplotlib.pyplot as plt\n",
        "import numpy as np\n",
        "import pandas as pd\n",
        "print(\"oi mundão!\")"
      ],
      "metadata": {
        "id": "I1Ibph4GDIVI"
      },
      "execution_count": null,
      "outputs": []
    }
  ]
}