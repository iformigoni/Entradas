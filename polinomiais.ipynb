{
  "nbformat": 4,
  "nbformat_minor": 0,
  "metadata": {
    "colab": {
      "provenance": [],
      "authorship_tag": "ABX9TyMHU0AvCKG2dFwVXranjWDl",
      "include_colab_link": true
    },
    "kernelspec": {
      "name": "python3",
      "display_name": "Python 3"
    },
    "language_info": {
      "name": "python"
    }
  },
  "cells": [
    {
      "cell_type": "markdown",
      "metadata": {
        "id": "view-in-github",
        "colab_type": "text"
      },
      "source": [
        "<a href=\"https://colab.research.google.com/github/iformigoni/Entrada_Publica/blob/main/polinomiais.ipynb\" target=\"_parent\"><img src=\"https://colab.research.google.com/assets/colab-badge.svg\" alt=\"Open In Colab\"/></a>"
      ]
    },
    {
      "cell_type": "code",
      "execution_count": null,
      "metadata": {
        "id": "MvIYDspqqorK",
        "outputId": "149ed922-c7ea-4690-df50-3951b448830e",
        "colab": {
          "base_uri": "https://localhost:8080/"
        }
      },
      "outputs": [
        {
          "output_type": "stream",
          "name": "stdout",
          "text": [
            "[1, 5]\n",
            "[-5.]\n",
            "[1, 4, 20]\n",
            "[-2.+4.j -2.-4.j]\n",
            "[ 1. 14. 43. 30.]\n",
            "[-10.  -3.  -1.]\n",
            "[ 3 15]\n",
            "[  1   9  40 100]\n",
            "[  1   9  40 100   0]\n",
            "[-5.+0.j -2.+4.j -2.-4.j  0.+0.j]\n",
            "[  1.   9.  40. 100.   0.]\n"
          ]
        }
      ],
      "source": [
        "# import control\n",
        "import numpy as np\n",
        "# import matplotlib.pyplot as plt\n",
        "\n",
        "a = [1,5]\n",
        "print(a)\n",
        "print(np.roots(a))\n",
        "\n",
        "b = [1,4,20]\n",
        "print(b)\n",
        "print(np.roots(b))\n",
        "\n",
        "# print(np.sin(np.pi))\n",
        "\n",
        "c = np.poly([-1,-3,-10])\n",
        "print(c)\n",
        "print(np.roots(c))\n",
        "\n",
        "# 3*(s+5) = 3s+15\n",
        "print(3 * np.array([1,5]))\n",
        "\n",
        "\n",
        "# a = np.array([0,1,5])\n",
        "# b = np.array([1,4,20])\n",
        "# print(a+b)\n",
        "\n",
        "\n",
        "#conv(a,b)\n",
        "\n",
        "d = np.convolve(a,b)\n",
        "print(d)\n",
        "e = [1,0]\n",
        "f = np.convolve(d,e)\n",
        "print(f)\n",
        "print(np.roots(f))\n",
        "print(np.poly([0,-5,-2+4j,-2-4j]))"
      ]
    }
  ]
}